{
  "nbformat": 4,
  "nbformat_minor": 0,
  "metadata": {
    "colab": {
      "provenance": [],
      "collapsed_sections": [],
      "authorship_tag": "ABX9TyObX89w7E6vBuVgqxSNeKRD",
      "include_colab_link": true
    },
    "kernelspec": {
      "name": "python3",
      "display_name": "Python 3"
    },
    "language_info": {
      "name": "python"
    }
  },
  "cells": [
    {
      "cell_type": "markdown",
      "metadata": {
        "id": "view-in-github",
        "colab_type": "text"
      },
      "source": [
        "<a href=\"https://colab.research.google.com/github/newgenesys/robotics-assignments/blob/main/CPSC_442_%E2%80%93_Assignment_2.ipynb\" target=\"_parent\"><img src=\"https://colab.research.google.com/assets/colab-badge.svg\" alt=\"Open In Colab\"/></a>"
      ]
    },
    {
      "cell_type": "code",
      "source": [
        "#Source: https://stackoverflow.com/questions/2748564/doctesting-functions-that-receive-and-display-user-input-python-tearing-my-ha\n",
        "def test_input_generator(*args):\n",
        "    \"\"\"Creates test input function that reads inputs from the passed arguments.\n",
        "    This is used to override input to allow doctests to mimic user\n",
        "    input\n",
        "\n",
        "    Returns:\n",
        "        function: this function is meant to moc out input and each time it is\n",
        "                  called it will print the supplied prompt along with the \"input\"\n",
        "                  supplied at the time the function was created.\n",
        "    \"\"\"\n",
        "    input_iterator = (test_input for test_input in args)\n",
        "\n",
        "    def test_input(prompt):\n",
        "        \"\"\"Gets input from outer input_iterator and prints the supplied\n",
        "        prompt along with the test input.\n",
        "\n",
        "        Args:\n",
        "            prompt :  the prompt ot display to the user\n",
        "\n",
        "        Returns:\n",
        "            str:  the test input string\n",
        "        \"\"\"\n",
        "        response = next(input_iterator)\n",
        "        print(f\"{prompt}{response}\")\n",
        "        return response\n",
        "\n",
        "    return test_input"
      ],
      "metadata": {
        "id": "LRf0UxtdyVpp"
      },
      "execution_count": 6,
      "outputs": []
    },
    {
      "cell_type": "markdown",
      "source": [
        "**Problem 1:** Write a program to compute the grades of students. The test scores are to be read from a text file. Using notepad, create a comma separated file with the data in it. Note that the data contains:\n",
        "\n",
        "*firstname,lastname,id,test1,test2,final*\n",
        "\n",
        "Bill,Bakar,11452,85,83,84\n",
        "\n",
        "Sally,Simpson,11157,88,92,95\n",
        "\n",
        "Mark,Mathews,111932,77,75,78\n",
        "\n",
        "Cindy,Williams,1117,65,71,81\n",
        "\n",
        "John,Jacobs,111873,67,72,68\n",
        "\n",
        "Amy,Albright,11262,91,95,92\n",
        "\n",
        "The weight of the test is 30%, the weight for the second test is 30%, and the weight for the final is 40%. The grades breakown is:\n",
        "\n",
        "`>` 90% A\n",
        "\n",
        "85% - 89.99% A-\n",
        "\n",
        "80% - 84.99% B+\n",
        "\n",
        "70% - 79.99% B\n",
        "\n",
        "60% - 69.99% C\n",
        "\n",
        "50% - 59.99% D\n",
        "\n",
        "The computed grades are to be stored in an output file as:\n",
        "\n",
        "id    last name    grade"
      ],
      "metadata": {
        "id": "S6q54G5WUOQ2"
      }
    },
    {
      "cell_type": "code",
      "source": [
        "# >>> compute_grades(inputFileName, outputFileName)\n",
        "# (-2.0, -3.0)\n",
        "def compute_grades(inputFileName, outputFileName):\n",
        "  \"\"\"Reads marks of students and compute their grades and write the result to an output file.\n",
        "\n",
        "  Examples:\n",
        "  >>> compute_grades(inputFileName=test_input_generator('final_grades.txt'), outputFileName=test_input_generator('result_grades.txt'))\n",
        "  \n",
        "  \"\"\" \n",
        "  f = open(inputFileName, 'r')\n",
        "  results = []\n",
        "  for line in f:\n",
        "    toList = [item for item in str.split(line, ',') if item]\n",
        "    toList[3] = int(toList[3])\n",
        "    toList[4] = int(toList[4])\n",
        "    toList[5] = int(toList[5])\n",
        "    score = (30/100 * toList[3]) + (30/100 * toList[4]) + (40/100 * toList[5])\n",
        "    grade = 'D'\n",
        "    if(score > 90):\n",
        "      grade = 'A'\n",
        "    elif(85<=score and score <=89.99):\n",
        "      grade = 'A-'\n",
        "    elif(80<=score and score <=84.99):\n",
        "      grade = 'B+'\n",
        "    elif(70<=score and score <=79.99):\n",
        "      grade = 'B'\n",
        "    elif(60<=score and score <=69.99):\n",
        "      grade = 'C'      \n",
        "    elif(50<=score and score <=59.99):\n",
        "      grade = 'D'\n",
        "    else:\n",
        "      grade = 'F'\n",
        "\n",
        "    results.append(toList[2]+\"    \"+toList[1]+\"    \"+grade)\n",
        "\n",
        "  f.close()\n",
        "\n",
        "  fw = open(outputFileName, 'a')\n",
        "\n",
        "  for result in results:\n",
        "    fw.write(result+'\\n')\n",
        "  fw.close()"
      ],
      "metadata": {
        "id": "KOOSzSine4Rt"
      },
      "execution_count": 5,
      "outputs": []
    },
    {
      "cell_type": "code",
      "source": [
        "compute_grades('final_grades.txt', 'result_grades.txt')"
      ],
      "metadata": {
        "id": "assvbhFpraHE"
      },
      "execution_count": null,
      "outputs": []
    },
    {
      "cell_type": "code",
      "source": [
        "# f = open (‘myfile.txt’, 'a')\n",
        "# f.write(‘\\nThis sentence will be appended.’)"
      ],
      "metadata": {
        "id": "NU5vZ4_PmfGm"
      },
      "execution_count": null,
      "outputs": []
    },
    {
      "cell_type": "markdown",
      "source": [
        "**Problem 2:** Write a program to compute the pay of Employees. The data is to be read from a file as:\n",
        "\n",
        "*first name,last name,employee id,hours worked,pay rate*\n",
        "\n",
        "Adam,Ames,111452,45,17.50\n",
        "\n",
        "Sally,Sims,111657,35,22.75\n",
        "\n",
        "Mark,Manning,111932,52,16.50\n",
        "\n",
        "Cindy,Carson,1117,48,18.50\n",
        "\n",
        "Jim,Jacobs,111873,38,25\n",
        "\n",
        "Alice,Andrews,11262,60,19.50\n",
        "\n",
        "You will write a function called compute_pay that will compute the pay of the employee. The pay is to be computed as hours worked multiplied by the pay rate if the number of hours worked is less than 40. If the number of hours worked is greater than 40, then the pay has to be \n",
        "\n",
        "1.75`*`pay_rate`*`hours_worked.\n",
        "\n",
        "The computed pay is to be stored in an output file as:\n",
        "\n",
        "id    last name    pay"
      ],
      "metadata": {
        "id": "AC9MCLjJdoM-"
      }
    },
    {
      "cell_type": "code",
      "source": [
        "# >>> compute_pay(inputFileName, outputFileName)\n",
        "# (-2.0, -3.0)\n",
        "def compute_pay(inputFileName, outputFileName):\n",
        "  \"\"\"\n",
        "    Reads hours worked by employees from a file, compute their pay and write the result to an output file.\n",
        "  \"\"\" \n",
        "  f = open(inputFileName, 'r')\n",
        "  salaries = []\n",
        "  for line in f:\n",
        "    toList = [item for item in str.split(line, ',') if item]\n",
        "    toList[3] = int(toList[3])\n",
        "    toList[4] = int(toList[4])\n",
        "    if(toList[3]<40):\n",
        "      salary = toList[3]*(toList[4]/100)\n",
        "    elif(toList[3]>=40):\n",
        "      salary = 1.75*toList[3]*(toList[4]/100)\n",
        "\n",
        "    salaries.append(toList[2]+\"    \"+toList[1]+\"    \"+salary)\n",
        "\n",
        "  f.close()\n",
        "\n",
        "  fw = open(outputFileName, 'a')\n",
        "\n",
        "  for result in salaries:\n",
        "    fw.write(result+'\\n')\n",
        "  fw.close()"
      ],
      "metadata": {
        "id": "B0cUlgims2fr"
      },
      "execution_count": null,
      "outputs": []
    },
    {
      "cell_type": "code",
      "source": [
        "compute_grades('employee_pays.txt', 'result_pays.txt')"
      ],
      "metadata": {
        "id": "nik6EMJNxOvB"
      },
      "execution_count": null,
      "outputs": []
    },
    {
      "cell_type": "code",
      "source": [
        "import doctest"
      ],
      "metadata": {
        "id": "_WvJZvg4B2ME"
      },
      "execution_count": null,
      "outputs": []
    },
    {
      "cell_type": "code",
      "source": [],
      "metadata": {
        "id": "2hACd1vCv5dJ"
      },
      "execution_count": null,
      "outputs": []
    },
    {
      "cell_type": "code",
      "source": [
        "# call the testmod function\n",
        "if __name__ == '__main__':\n",
        "    doctest.testmod(verbose = True)"
      ],
      "metadata": {
        "id": "jJ6ubsFoB3_H"
      },
      "execution_count": null,
      "outputs": []
    },
    {
      "cell_type": "code",
      "source": [],
      "metadata": {
        "id": "rKaIhSg2CEHS"
      },
      "execution_count": null,
      "outputs": []
    }
  ]
}