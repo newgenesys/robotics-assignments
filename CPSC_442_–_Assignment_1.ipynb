{
  "nbformat": 4,
  "nbformat_minor": 0,
  "metadata": {
    "colab": {
      "provenance": [],
      "authorship_tag": "ABX9TyOdDCGtAaVpXDxE0pSvxkih",
      "include_colab_link": true
    },
    "kernelspec": {
      "name": "python3",
      "display_name": "Python 3"
    },
    "language_info": {
      "name": "python"
    }
  },
  "cells": [
    {
      "cell_type": "markdown",
      "metadata": {
        "id": "view-in-github",
        "colab_type": "text"
      },
      "source": [
        "<a href=\"https://colab.research.google.com/github/newgenesys/robotics-assignments/blob/main/CPSC_442_%E2%80%93_Assignment_1.ipynb\" target=\"_parent\"><img src=\"https://colab.research.google.com/assets/colab-badge.svg\" alt=\"Open In Colab\"/></a>"
      ]
    },
    {
      "cell_type": "markdown",
      "source": [
        "**Problem 1:** Write a function that computes the roots of a quadratic equation. The input to the function\n",
        "are the coefficients a, b, c of the quadratic equation e.g., with general form:\n",
        "\n",
        "𝑎𝑥2 + 𝑏 𝑥 + 𝑐 = 0\n",
        "\n",
        "For example, if\n",
        "\n",
        "𝑥2 + 5 𝑥 + 6 = 0\n",
        "\n",
        "Then compute_quadratic_roots function will be called as: compute_quadratic_roots(1,5,6)"
      ],
      "metadata": {
        "id": "S6q54G5WUOQ2"
      }
    },
    {
      "cell_type": "code",
      "source": [
        "import math"
      ],
      "metadata": {
        "id": "AXeEwNATVHqj"
      },
      "execution_count": 35,
      "outputs": []
    },
    {
      "cell_type": "code",
      "execution_count": 34,
      "metadata": {
        "id": "65Ii5Y86Tdk7"
      },
      "outputs": [],
      "source": [
        "def compute_quadratic_roots(a,b,c):\n",
        "  \"\"\"Return the roots of a quadratic equation with coefficients a, b and c.\n",
        "  >>> compute_quadratic_roots(1,5,6)\n",
        "  (-2.0, -3.0)\n",
        "  \"\"\"  \n",
        "  equation = b*b - 4 * a * c\n",
        "  sqrt = math.sqrt(abs(equation))\n",
        "  r1 = 0\n",
        "  r2 = 0\n",
        "  if(equation > 0):\n",
        "    # real and different roots\n",
        "    r1 = (-b + sqrt) / (2 * a)\n",
        "    r2 = (-b - sqrt) / (2 * a)\n",
        "\n",
        "  elif(equation == 0):\n",
        "    # real and same roots\n",
        "    r1 = (-b / (2 * a))\n",
        "\n",
        "  else:\n",
        "    #Complext roots\n",
        "    r1 =  b / (2 * a), \" + i\", sqrt\n",
        "    r2 =  b / (2 * a), \" - i\", sqrt\n",
        "\n",
        "  return r1, r2"
      ]
    },
    {
      "cell_type": "code",
      "source": [
        "compute_quadratic_roots(1,5,6)"
      ],
      "metadata": {
        "id": "29QS20XvWZVq",
        "colab": {
          "base_uri": "https://localhost:8080/"
        },
        "outputId": "b70d764f-aa5f-43a6-fb2b-b390cd0a481f"
      },
      "execution_count": 36,
      "outputs": [
        {
          "output_type": "execute_result",
          "data": {
            "text/plain": [
              "(-2.0, -3.0)"
            ]
          },
          "metadata": {},
          "execution_count": 36
        }
      ]
    },
    {
      "cell_type": "markdown",
      "source": [
        "**Problem #2:** Write a function that will return the total amount due for a loan after borrowing amount amt\n",
        "for n months with an interest rate of r%.\n",
        "The formula for compound interest rate calculation is:\n",
        "𝑇𝑜𝑡𝑎𝑙 𝐴𝑚𝑜𝑢𝑛𝑡 = P (1 + r)𝑛/12\n",
        "Where P is the starting principle amount. For example, if you borrowed $10,000 for 36 months at an\n",
        "interest rate of 5%, the amount after 36 months will be: 10000 ∗ (1 + 0.05)36/12 = 11576.25\n",
        "The input to the compute_total_mount_with_compound_interest function will be p, r, and n."
      ],
      "metadata": {
        "id": "dvPlqdPJX4Aa"
      }
    },
    {
      "cell_type": "code",
      "source": [
        "def compute_total_mount_with_compound_interest(p, r, n):\n",
        "  \"\"\"Return the total amount due for a loan after borrowing amount amt for n months with an interest rate of r%.\n",
        "  >>> compute_total_mount_with_compound_interest(10000,5,36)\n",
        "  11576.250000000002\n",
        "  \"\"\"  \n",
        "  return p*(1+(r/100))**(n/12)"
      ],
      "metadata": {
        "id": "yQh3uFmUWwZT"
      },
      "execution_count": 54,
      "outputs": []
    },
    {
      "cell_type": "code",
      "source": [
        "compute_total_mount_with_compound_interest(10000, 5, 36)"
      ],
      "metadata": {
        "id": "xQDV2Y6ZZPel",
        "colab": {
          "base_uri": "https://localhost:8080/"
        },
        "outputId": "8d01c8c0-5b61-4d02-eef6-473b2e447227"
      },
      "execution_count": 38,
      "outputs": [
        {
          "output_type": "execute_result",
          "data": {
            "text/plain": [
              "11576.250000000002"
            ]
          },
          "metadata": {},
          "execution_count": 38
        }
      ]
    },
    {
      "cell_type": "markdown",
      "source": [
        "Problem #3: Write a function that will return the monthly payment for a loan amount amt, interest rate\n",
        "r, and loan duration in months n. The formula for calculating the monthly payment is:\n",
        "monthly payment = amt ∗ 𝑟\n",
        "1200\n",
        "(1 + 𝑟\n",
        "1200 )𝑛\n",
        "(1 + 𝑟\n",
        "1200 )𝑛 − 1\n",
        "The inputs to the compute_monthly_payment function will be amt, r, and n"
      ],
      "metadata": {
        "id": "JDGg1xpIZf-r"
      }
    },
    {
      "cell_type": "code",
      "source": [
        "def compute_monthly_payment(amt, r, n):\n",
        "  \"\"\"Return the monthly payment for a loan amount of amt, interest rate r, and loan duration in months n.\n",
        "  >>> compute_monthly_payment(10000,5,36)\n",
        "  299.70897104665556\n",
        "  \"\"\"\n",
        "  return amt * ((r/1200)*(((1+(r/1200))**n)/(((1+(r/1200))**n) -1)))"
      ],
      "metadata": {
        "id": "mbVMNQyEZU7L"
      },
      "execution_count": 39,
      "outputs": []
    },
    {
      "cell_type": "code",
      "source": [
        "compute_monthly_payment(10000, 5, 36)"
      ],
      "metadata": {
        "id": "I1sSHRbZe9u2",
        "colab": {
          "base_uri": "https://localhost:8080/"
        },
        "outputId": "7c71b6b2-f45a-44b0-fa23-510017cb56fd"
      },
      "execution_count": 40,
      "outputs": [
        {
          "output_type": "execute_result",
          "data": {
            "text/plain": [
              "299.70897104665556"
            ]
          },
          "metadata": {},
          "execution_count": 40
        }
      ]
    },
    {
      "cell_type": "markdown",
      "source": [
        "**Problem #4:** Write a function that will compute the average of the highest and lowest number in a list."
      ],
      "metadata": {
        "id": "3DrjOlSufith"
      }
    },
    {
      "cell_type": "code",
      "source": [
        "def list_high_low_avg(items):\n",
        "  \"\"\"Return the average of the highest and lowest number in a list, items\n",
        "  >>> list_high_low_avg([1,2,3,4,5,7,0,9])\n",
        "  4.5\n",
        "  \"\"\"\n",
        "  lowest = min(items)\n",
        "  highest = max(items)\n",
        "\n",
        "  return (lowest+highest)/2"
      ],
      "metadata": {
        "id": "eVCaWjbGfEv_"
      },
      "execution_count": 41,
      "outputs": []
    },
    {
      "cell_type": "code",
      "source": [
        "list_high_low_avg([1,2,3,4,5,7,0,9])"
      ],
      "metadata": {
        "id": "WDhqz3yYf3hk",
        "colab": {
          "base_uri": "https://localhost:8080/"
        },
        "outputId": "0197e136-ae71-493d-a72f-f7da771333dc"
      },
      "execution_count": 42,
      "outputs": [
        {
          "output_type": "execute_result",
          "data": {
            "text/plain": [
              "4.5"
            ]
          },
          "metadata": {},
          "execution_count": 42
        }
      ]
    },
    {
      "cell_type": "markdown",
      "source": [
        "**Problem #5:** Write a function that will convert a given temperature in Fahrenheit to Centigrade. The\n",
        "formula relating the Fahrenheit and Centigrade is: 𝐶 5 = (𝐹 − 32) 9\n",
        "𝐶\n",
        "5 = (F − 32)\n",
        "9"
      ],
      "metadata": {
        "id": "XnXdXkuYgG0O"
      }
    },
    {
      "cell_type": "code",
      "source": [
        "def fahrenheit_to_centigrade(degree_fah):\n",
        "  \"\"\"Return the centigrade value for a value in fahrenheit units degree_fah\n",
        "  >>> fahrenheit_to_centigrade(25)\n",
        "  -3.888888888888889\n",
        "  \"\"\"  \n",
        "  return 5*((degree_fah-32)/9)"
      ],
      "metadata": {
        "id": "zwbTnr5xf-Hj"
      },
      "execution_count": 43,
      "outputs": []
    },
    {
      "cell_type": "code",
      "source": [
        "fahrenheit_to_centigrade(25)"
      ],
      "metadata": {
        "id": "wGbVO3XwgeYQ",
        "colab": {
          "base_uri": "https://localhost:8080/"
        },
        "outputId": "62d327e7-f595-4a43-a03f-e1a3a9d06e2d"
      },
      "execution_count": 44,
      "outputs": [
        {
          "output_type": "execute_result",
          "data": {
            "text/plain": [
              "-3.888888888888889"
            ]
          },
          "metadata": {},
          "execution_count": 44
        }
      ]
    },
    {
      "cell_type": "markdown",
      "source": [
        "**Problem #6:** Write a function to convert temperature given in Centigrade to Fahrenheit."
      ],
      "metadata": {
        "id": "Jq9tk9wqglYN"
      }
    },
    {
      "cell_type": "code",
      "source": [
        "def centigrade_to_fahrenheit(degree_cent):\n",
        "  \"\"\"Return the fahrenheit value for a value in centigrade units degree_cent\n",
        "  >>> centigrade_to_fahrenheit(-3.888888888888889)\n",
        "  25.0\n",
        "  \"\"\"\n",
        "  return ((9*degree_cent)/5)+32"
      ],
      "metadata": {
        "id": "_jlzazmNggvS"
      },
      "execution_count": 45,
      "outputs": []
    },
    {
      "cell_type": "code",
      "source": [
        "centigrade_to_fahrenheit(-3.888888888888889)"
      ],
      "metadata": {
        "id": "Nig0O0mrg9JM",
        "colab": {
          "base_uri": "https://localhost:8080/"
        },
        "outputId": "9acdd84c-ecb9-411f-deb5-5b28ab535144"
      },
      "execution_count": 46,
      "outputs": [
        {
          "output_type": "execute_result",
          "data": {
            "text/plain": [
              "25.0"
            ]
          },
          "metadata": {},
          "execution_count": 46
        }
      ]
    },
    {
      "cell_type": "markdown",
      "source": [
        "**Problem #7:** Write a function to compute the area of a circle, given its radius."
      ],
      "metadata": {
        "id": "0ikf3olhhEfC"
      }
    },
    {
      "cell_type": "code",
      "source": [
        "def area_of_circle(r):\n",
        "  \"\"\"Return the area of a circle given the radius, r\n",
        "  >>> area_of_circle(2)\n",
        "  12.56636\n",
        "  \"\"\"  \n",
        "  PI = 3.14159\n",
        "  return PI*(r**2);"
      ],
      "metadata": {
        "id": "Hmgc6adlhBr0"
      },
      "execution_count": 47,
      "outputs": []
    },
    {
      "cell_type": "code",
      "source": [
        "area_of_circle(2)"
      ],
      "metadata": {
        "colab": {
          "base_uri": "https://localhost:8080/"
        },
        "id": "wDVUqjWOAHVx",
        "outputId": "1bdac487-7753-4059-83a4-241cebe0bd2d"
      },
      "execution_count": 48,
      "outputs": [
        {
          "output_type": "execute_result",
          "data": {
            "text/plain": [
              "12.56636"
            ]
          },
          "metadata": {},
          "execution_count": 48
        }
      ]
    },
    {
      "cell_type": "markdown",
      "source": [
        "**Problem #8:** Write a function to compute the volume of a cylinder given its length and diameter."
      ],
      "metadata": {
        "id": "B20Azq7OAIDT"
      }
    },
    {
      "cell_type": "code",
      "source": [
        "def volume_of_cylinder(l, d):\n",
        "  \"\"\"Return the volume of a cylnder given the length and diameter l and d\n",
        "  >>> volume_of_cylinder(4, 2)\n",
        "  12.56636\n",
        "  \"\"\"   \n",
        "  PI = 3.14159\n",
        "  return PI*((d/2)**2)*l"
      ],
      "metadata": {
        "id": "7mojHgV8AJFF"
      },
      "execution_count": 49,
      "outputs": []
    },
    {
      "cell_type": "code",
      "source": [
        "volume_of_cylinder(4, 2)"
      ],
      "metadata": {
        "colab": {
          "base_uri": "https://localhost:8080/"
        },
        "id": "WcyZJJTQBfSu",
        "outputId": "c77e64b3-dcf0-47ac-94b6-c4480ea092a9"
      },
      "execution_count": 50,
      "outputs": [
        {
          "output_type": "execute_result",
          "data": {
            "text/plain": [
              "12.56636"
            ]
          },
          "metadata": {},
          "execution_count": 50
        }
      ]
    },
    {
      "cell_type": "code",
      "source": [
        "import doctest"
      ],
      "metadata": {
        "id": "_WvJZvg4B2ME"
      },
      "execution_count": 51,
      "outputs": []
    },
    {
      "cell_type": "code",
      "source": [
        "# call the testmod function\n",
        "if __name__ == '__main__':\n",
        "    doctest.testmod(verbose = True)"
      ],
      "metadata": {
        "colab": {
          "base_uri": "https://localhost:8080/"
        },
        "id": "jJ6ubsFoB3_H",
        "outputId": "03b50877-3933-411f-897b-4042f812d610"
      },
      "execution_count": 55,
      "outputs": [
        {
          "output_type": "stream",
          "name": "stdout",
          "text": [
            "Trying:\n",
            "    area_of_circle(2)\n",
            "Expecting:\n",
            "    12.56636\n",
            "ok\n",
            "Trying:\n",
            "    centigrade_to_fahrenheit(-3.888888888888889)\n",
            "Expecting:\n",
            "    25.0\n",
            "ok\n",
            "Trying:\n",
            "    compute_monthly_payment(10000,5,36)\n",
            "Expecting:\n",
            "    299.70897104665556\n",
            "ok\n",
            "Trying:\n",
            "    compute_quadratic_roots(1,5,6)\n",
            "Expecting:\n",
            "    (-2.0, -3.0)\n",
            "ok\n",
            "Trying:\n",
            "    compute_total_mount_with_compound_interest(10000,5,36)\n",
            "Expecting:\n",
            "    11576.250000000002\n",
            "ok\n",
            "Trying:\n",
            "    fahrenheit_to_centigrade(25)\n",
            "Expecting:\n",
            "    -3.888888888888889\n",
            "ok\n",
            "Trying:\n",
            "    list_high_low_avg([1,2,3,4,5,7,0,9])\n",
            "Expecting:\n",
            "    4.5\n",
            "ok\n",
            "Trying:\n",
            "    volume_of_cylinder(4, 2)\n",
            "Expecting:\n",
            "    12.56636\n",
            "ok\n",
            "1 items had no tests:\n",
            "    __main__\n",
            "8 items passed all tests:\n",
            "   1 tests in __main__.area_of_circle\n",
            "   1 tests in __main__.centigrade_to_fahrenheit\n",
            "   1 tests in __main__.compute_monthly_payment\n",
            "   1 tests in __main__.compute_quadratic_roots\n",
            "   1 tests in __main__.compute_total_mount_with_compound_interest\n",
            "   1 tests in __main__.fahrenheit_to_centigrade\n",
            "   1 tests in __main__.list_high_low_avg\n",
            "   1 tests in __main__.volume_of_cylinder\n",
            "8 tests in 9 items.\n",
            "8 passed and 0 failed.\n",
            "Test passed.\n"
          ]
        }
      ]
    },
    {
      "cell_type": "code",
      "source": [],
      "metadata": {
        "id": "rKaIhSg2CEHS"
      },
      "execution_count": null,
      "outputs": []
    }
  ]
}